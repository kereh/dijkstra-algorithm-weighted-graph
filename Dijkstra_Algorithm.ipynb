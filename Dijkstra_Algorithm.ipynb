{
  "nbformat": 4,
  "nbformat_minor": 0,
  "metadata": {
    "colab": {
      "name": "Dijkstra Algorithm",
      "provenance": [],
      "collapsed_sections": []
    },
    "kernelspec": {
      "name": "python3",
      "display_name": "Python 3"
    },
    "language_info": {
      "name": "python"
    }
  },
  "cells": [
    {
      "cell_type": "markdown",
      "source": [
        "example weighted graph that i used : https://miro.medium.com/max/1400/1*PL4ldMvWbdxUGCkS5a1gHw.png"
      ],
      "metadata": {
        "id": "N2L0CRNksqHJ"
      }
    },
    {
      "cell_type": "code",
      "source": [
        "from heapq import heappush, heappop\n",
        "from sys import maxsize"
      ],
      "metadata": {
        "id": "BcQoPJkXve6Q"
      },
      "execution_count": 91,
      "outputs": []
    },
    {
      "cell_type": "code",
      "source": [
        "def dijkstra(graph, start, stop):\n",
        "\n",
        "    queue = []\n",
        "    visited = []\n",
        "\n",
        "    nodes = {node: {'cost': maxsize, 'pred': []} for node in graph}\n",
        "    nodes[start]['cost'] = 0\n",
        "\n",
        "    heappush(queue, (nodes[start]['cost'], start))\n",
        "\n",
        "    while queue:\n",
        "\n",
        "        _, current_node = heappop(queue)\n",
        "        visited.append(current_node)\n",
        "\n",
        "        for node, cost in graph[current_node].items():\n",
        "\n",
        "            if node in visited:\n",
        "                continue\n",
        "\n",
        "            current_cost = nodes[current_node]['cost'] + cost\n",
        "\n",
        "            if nodes[node]['cost'] > current_cost:\n",
        "\n",
        "                nodes[node]['cost'] = current_cost\n",
        "                nodes[node]['pred'] = nodes[current_node]['pred'] + [current_node]\n",
        "\n",
        "                heappush(queue, (current_cost, node))\n",
        "\n",
        "    print(f'Shortest path from \"{start}\" to \"{stop}\" = {\" -> \".join(nodes[stop][\"pred\"] + [stop])}')\n",
        "    print(f'Cost from {start} to {stop} = {nodes[stop][\"cost\"]}')"
      ],
      "metadata": {
        "id": "nv6MRZz6t64L"
      },
      "execution_count": 125,
      "outputs": []
    },
    {
      "cell_type": "code",
      "source": [
        "weighted_graph = {\n",
        "    'Seattle': {'Los Angeles': 70, 'New York': 180},\n",
        "    'Los Angeles': {'Seattle': 70, 'Denver': 90, 'Atlanta': 120},\n",
        "    'New York': {'Seattle': 180, 'Atlanta': 70},\n",
        "    'Atlanta': {'New York': 70, 'Miami': 50, 'Denver': 45, 'Los Angeles': 120},\n",
        "    'Miami': {'Atlanta': 50},\n",
        "    'Denver': {'Atlanta': 45, 'Los Angeles': 90},\n",
        "}\n",
        "\n",
        "# we start from Seattle to Atlanta\n",
        "dijkstra(weighted_graph, 'Seattle', 'Atlanta')"
      ],
      "metadata": {
        "colab": {
          "base_uri": "https://localhost:8080/"
        },
        "id": "THXbRzs7syQG",
        "outputId": "a67d2908-0b74-483f-8177-4ae89a6f4951"
      },
      "execution_count": 126,
      "outputs": [
        {
          "output_type": "stream",
          "name": "stdout",
          "text": [
            "Shortest path from \"Seattle\" to \"Atlanta\" = Seattle -> Los Angeles -> Atlanta\n",
            "Cost from Seattle to Atlanta = 190\n"
          ]
        }
      ]
    }
  ]
}